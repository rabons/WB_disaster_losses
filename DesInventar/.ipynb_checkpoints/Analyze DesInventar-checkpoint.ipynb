{
 "cells": [
  {
   "cell_type": "code",
   "execution_count": 2,
   "metadata": {
    "collapsed": false,
    "scrolled": true
   },
   "outputs": [],
   "source": [
    "import os\n",
    "import pandas as pd\n",
    "import numpy as np\n",
    "from pandas_datareader import wb\n",
    "%load_ext autoreload\n",
    "%autoreload 2"
   ]
  },
  {
   "cell_type": "code",
   "execution_count": 3,
   "metadata": {
    "collapsed": true
   },
   "outputs": [],
   "source": [
    "# Import plotting routines\n",
    "%matplotlib inline\n",
    "import matplotlib.pyplot as plt\n",
    "import matplotlib\n",
    "matplotlib.style.use('ggplot')"
   ]
  },
  {
   "cell_type": "code",
   "execution_count": 4,
   "metadata": {
    "collapsed": false
   },
   "outputs": [],
   "source": [
    "desinventar = pd.read_csv('DesInventar.csv', encoding='utf-8', index_col=[0,1])"
   ]
  },
  {
   "cell_type": "code",
   "execution_count": 5,
   "metadata": {
    "collapsed": false
   },
   "outputs": [],
   "source": [
    "countries = desinventar.index.levels[0]"
   ]
  },
  {
   "cell_type": "code",
   "execution_count": 6,
   "metadata": {
    "collapsed": false
   },
   "outputs": [
    {
     "data": {
      "text/html": [
       "<div>\n",
       "<table border=\"1\" class=\"dataframe\">\n",
       "  <thead>\n",
       "    <tr style=\"text-align: right;\">\n",
       "      <th></th>\n",
       "      <th></th>\n",
       "      <th>DataCards</th>\n",
       "      <th>Deaths</th>\n",
       "      <th>Injured</th>\n",
       "      <th>Missing</th>\n",
       "      <th>Houses Destroyed</th>\n",
       "      <th>Houses Damaged</th>\n",
       "      <th>Victims</th>\n",
       "      <th>Affected</th>\n",
       "      <th>Relocated</th>\n",
       "      <th>Evacuated</th>\n",
       "      <th>Losses $USD</th>\n",
       "      <th>Losses $Local</th>\n",
       "      <th>Education centers</th>\n",
       "      <th>Hospitals</th>\n",
       "      <th>Damages in crops Ha.</th>\n",
       "      <th>Lost Cattle</th>\n",
       "      <th>Damages in roads Mts</th>\n",
       "    </tr>\n",
       "    <tr>\n",
       "      <th></th>\n",
       "      <th>Event</th>\n",
       "      <th></th>\n",
       "      <th></th>\n",
       "      <th></th>\n",
       "      <th></th>\n",
       "      <th></th>\n",
       "      <th></th>\n",
       "      <th></th>\n",
       "      <th></th>\n",
       "      <th></th>\n",
       "      <th></th>\n",
       "      <th></th>\n",
       "      <th></th>\n",
       "      <th></th>\n",
       "      <th></th>\n",
       "      <th></th>\n",
       "      <th></th>\n",
       "      <th></th>\n",
       "    </tr>\n",
       "  </thead>\n",
       "  <tbody>\n",
       "    <tr>\n",
       "      <th rowspan=\"4\" valign=\"top\">Albania</th>\n",
       "      <th>ACCIDENT</th>\n",
       "      <td>29</td>\n",
       "      <td>40</td>\n",
       "      <td>292</td>\n",
       "      <td>9</td>\n",
       "      <td>0</td>\n",
       "      <td>0</td>\n",
       "      <td>9</td>\n",
       "      <td>3</td>\n",
       "      <td>0</td>\n",
       "      <td>0</td>\n",
       "      <td>0.0</td>\n",
       "      <td>0.0</td>\n",
       "      <td>0</td>\n",
       "      <td>0</td>\n",
       "      <td>0.0</td>\n",
       "      <td>0</td>\n",
       "      <td>0.0</td>\n",
       "    </tr>\n",
       "    <tr>\n",
       "      <th>AVALANCHE</th>\n",
       "      <td>25</td>\n",
       "      <td>46</td>\n",
       "      <td>35</td>\n",
       "      <td>13</td>\n",
       "      <td>6</td>\n",
       "      <td>3</td>\n",
       "      <td>8</td>\n",
       "      <td>0</td>\n",
       "      <td>0</td>\n",
       "      <td>0</td>\n",
       "      <td>0.0</td>\n",
       "      <td>2267928.0</td>\n",
       "      <td>0</td>\n",
       "      <td>0</td>\n",
       "      <td>0.0</td>\n",
       "      <td>183</td>\n",
       "      <td>0.0</td>\n",
       "    </tr>\n",
       "    <tr>\n",
       "      <th>COLD WAVE</th>\n",
       "      <td>24</td>\n",
       "      <td>22</td>\n",
       "      <td>12</td>\n",
       "      <td>0</td>\n",
       "      <td>0</td>\n",
       "      <td>0</td>\n",
       "      <td>0</td>\n",
       "      <td>0</td>\n",
       "      <td>0</td>\n",
       "      <td>0</td>\n",
       "      <td>0.0</td>\n",
       "      <td>12000000.0</td>\n",
       "      <td>0</td>\n",
       "      <td>0</td>\n",
       "      <td>64.0</td>\n",
       "      <td>1919</td>\n",
       "      <td>0.0</td>\n",
       "    </tr>\n",
       "    <tr>\n",
       "      <th>CONTAMINATION</th>\n",
       "      <td>14</td>\n",
       "      <td>19</td>\n",
       "      <td>2</td>\n",
       "      <td>0</td>\n",
       "      <td>0</td>\n",
       "      <td>0</td>\n",
       "      <td>1537</td>\n",
       "      <td>30000</td>\n",
       "      <td>37</td>\n",
       "      <td>0</td>\n",
       "      <td>0.0</td>\n",
       "      <td>250000000.0</td>\n",
       "      <td>0</td>\n",
       "      <td>0</td>\n",
       "      <td>0.0</td>\n",
       "      <td>492</td>\n",
       "      <td>0.0</td>\n",
       "    </tr>\n",
       "  </tbody>\n",
       "</table>\n",
       "</div>"
      ],
      "text/plain": [
       "                        DataCards   Deaths   Injured   Missing  \\\n",
       "        Event                                                    \n",
       "Albania ACCIDENT               29       40       292         9   \n",
       "        AVALANCHE              25       46        35        13   \n",
       "        COLD WAVE              24       22        12         0   \n",
       "        CONTAMINATION          14       19         2         0   \n",
       "\n",
       "                        Houses Destroyed   Houses Damaged   Victims  \\\n",
       "        Event                                                         \n",
       "Albania ACCIDENT                       0                0         9   \n",
       "        AVALANCHE                      6                3         8   \n",
       "        COLD WAVE                      0                0         0   \n",
       "        CONTAMINATION                  0                0      1537   \n",
       "\n",
       "                        Affected   Relocated   Evacuated   Losses $USD  \\\n",
       "        Event                                                            \n",
       "Albania ACCIDENT               3           0           0           0.0   \n",
       "        AVALANCHE              0           0           0           0.0   \n",
       "        COLD WAVE              0           0           0           0.0   \n",
       "        CONTAMINATION      30000          37           0           0.0   \n",
       "\n",
       "                        Losses $Local   Education centers   Hospitals  \\\n",
       "        Event                                                           \n",
       "Albania ACCIDENT                  0.0                   0           0   \n",
       "        AVALANCHE           2267928.0                   0           0   \n",
       "        COLD WAVE          12000000.0                   0           0   \n",
       "        CONTAMINATION     250000000.0                   0           0   \n",
       "\n",
       "                        Damages in crops Ha.   Lost Cattle  \\\n",
       "        Event                                                \n",
       "Albania ACCIDENT                         0.0             0   \n",
       "        AVALANCHE                        0.0           183   \n",
       "        COLD WAVE                       64.0          1919   \n",
       "        CONTAMINATION                    0.0           492   \n",
       "\n",
       "                        Damages in roads Mts  \n",
       "        Event                                 \n",
       "Albania ACCIDENT                         0.0  \n",
       "        AVALANCHE                        0.0  \n",
       "        COLD WAVE                        0.0  \n",
       "        CONTAMINATION                    0.0  "
      ]
     },
     "execution_count": 6,
     "metadata": {},
     "output_type": "execute_result"
    }
   ],
   "source": [
    "desinventar.head(4)"
   ]
  },
  {
   "cell_type": "code",
   "execution_count": 7,
   "metadata": {
    "collapsed": false
   },
   "outputs": [
    {
     "data": {
      "text/html": [
       "<div>\n",
       "<table border=\"1\" class=\"dataframe\">\n",
       "  <thead>\n",
       "    <tr style=\"text-align: right;\">\n",
       "      <th></th>\n",
       "      <th>DataCards</th>\n",
       "      <th>Deaths</th>\n",
       "      <th>Injured</th>\n",
       "      <th>Missing</th>\n",
       "      <th>Houses Destroyed</th>\n",
       "      <th>Houses Damaged</th>\n",
       "      <th>Victims</th>\n",
       "      <th>Affected</th>\n",
       "      <th>Relocated</th>\n",
       "      <th>Evacuated</th>\n",
       "      <th>Losses $USD</th>\n",
       "      <th>Losses $Local</th>\n",
       "      <th>Education centers</th>\n",
       "      <th>Hospitals</th>\n",
       "      <th>Damages in crops Ha.</th>\n",
       "      <th>Lost Cattle</th>\n",
       "      <th>Damages in roads Mts</th>\n",
       "    </tr>\n",
       "  </thead>\n",
       "  <tbody>\n",
       "    <tr>\n",
       "      <th>Albania</th>\n",
       "      <td>199</td>\n",
       "      <td>13</td>\n",
       "      <td>23</td>\n",
       "      <td>0</td>\n",
       "      <td>124</td>\n",
       "      <td>1215</td>\n",
       "      <td>2383</td>\n",
       "      <td>34296</td>\n",
       "      <td>0</td>\n",
       "      <td>205</td>\n",
       "      <td>0.000000e+00</td>\n",
       "      <td>721819022.0</td>\n",
       "      <td>10</td>\n",
       "      <td>0</td>\n",
       "      <td>11698.4</td>\n",
       "      <td>5046</td>\n",
       "      <td>30850.0</td>\n",
       "    </tr>\n",
       "    <tr>\n",
       "      <th>Argentina</th>\n",
       "      <td>2824</td>\n",
       "      <td>438</td>\n",
       "      <td>4329</td>\n",
       "      <td>46</td>\n",
       "      <td>16362</td>\n",
       "      <td>33385</td>\n",
       "      <td>78936</td>\n",
       "      <td>6894368</td>\n",
       "      <td>0</td>\n",
       "      <td>187720</td>\n",
       "      <td>4.062805e+09</td>\n",
       "      <td>0.0</td>\n",
       "      <td>277</td>\n",
       "      <td>30</td>\n",
       "      <td>3016750.0</td>\n",
       "      <td>1050</td>\n",
       "      <td>32000.0</td>\n",
       "    </tr>\n",
       "  </tbody>\n",
       "</table>\n",
       "</div>"
      ],
      "text/plain": [
       "            DataCards   Deaths   Injured   Missing   Houses Destroyed  \\\n",
       "Albania           199       13        23         0                124   \n",
       "Argentina        2824      438      4329        46              16362   \n",
       "\n",
       "            Houses Damaged   Victims   Affected   Relocated   Evacuated  \\\n",
       "Albania               1215      2383      34296           0         205   \n",
       "Argentina            33385     78936    6894368           0      187720   \n",
       "\n",
       "            Losses $USD   Losses $Local   Education centers   Hospitals  \\\n",
       "Albania    0.000000e+00     721819022.0                  10           0   \n",
       "Argentina  4.062805e+09             0.0                 277          30   \n",
       "\n",
       "            Damages in crops Ha.   Lost Cattle   Damages in roads Mts  \n",
       "Albania                  11698.4          5046                30850.0  \n",
       "Argentina              3016750.0          1050                32000.0  "
      ]
     },
     "execution_count": 7,
     "metadata": {},
     "output_type": "execute_result"
    }
   ],
   "source": [
    "storms = desinventar.xs('STORM',level=1)\n",
    "storms.head(2)"
   ]
  },
  {
   "cell_type": "code",
   "execution_count": 8,
   "metadata": {
    "collapsed": false
   },
   "outputs": [
    {
     "ename": "TypeError",
     "evalue": "data type not understood",
     "output_type": "error",
     "traceback": [
      "\u001b[0;31m---------------------------------------------------------------------------\u001b[0m",
      "\u001b[0;31mTypeError\u001b[0m                                 Traceback (most recent call last)",
      "\u001b[0;32m<ipython-input-8-eb1ee89a1d01>\u001b[0m in \u001b[0;36m<module>\u001b[0;34m()\u001b[0m\n\u001b[0;32m----> 1\u001b[0;31m \u001b[0mplot\u001b[0m \u001b[0;34m=\u001b[0m \u001b[0mnp\u001b[0m\u001b[0;34m.\u001b[0m\u001b[0marray\u001b[0m\u001b[0;34m(\u001b[0m\u001b[0mstorms\u001b[0m\u001b[0;34m[\u001b[0m\u001b[0;34m' Affected'\u001b[0m\u001b[0;34m]\u001b[0m\u001b[0;34m.\u001b[0m\u001b[0mvalues\u001b[0m\u001b[0;34m,\u001b[0m \u001b[0mstorms\u001b[0m\u001b[0;34m[\u001b[0m\u001b[0;34m' Losses $USD'\u001b[0m\u001b[0;34m]\u001b[0m\u001b[0;34m.\u001b[0m\u001b[0mvalues\u001b[0m\u001b[0;34m)\u001b[0m\u001b[0;34m\u001b[0m\u001b[0m\n\u001b[0m",
      "\u001b[0;31mTypeError\u001b[0m: data type not understood"
     ]
    }
   ],
   "source": [
    "plot = np.array(storms[' Affected'].values, storms[' Losses $USD'].values)"
   ]
  },
  {
   "cell_type": "code",
   "execution_count": 9,
   "metadata": {
    "collapsed": true
   },
   "outputs": [],
   "source": [
    "%matplotlib qt"
   ]
  },
  {
   "cell_type": "code",
   "execution_count": 10,
   "metadata": {
    "collapsed": false
   },
   "outputs": [
    {
     "data": {
      "text/plain": [
       "<matplotlib.legend.Legend at 0x12067bf98>"
      ]
     },
     "execution_count": 10,
     "metadata": {},
     "output_type": "execute_result"
    }
   ],
   "source": [
    "fig = plt.figure(figsize=[12,9])\n",
    "plt.scatter(storms[' Affected'], storms[' Losses $USD'], color='k', clip_on=False)\n",
    "#plt.plot(storms['tot_aff'],  regress_multiple_p.params[0]*storms['tot_dam']\n",
    "#        + regress_multiple_p.params[1] * storms['tot_death'], 'rx')\n",
    "\n",
    "\n",
    "#plt.plot(x_grid, y_pol)\n",
    "# for k in df_stats.index.values:\n",
    "#     plt.annotate(xy = [df_stats.loc[k,'social_p'], df_stats.loc[k,'CPI2015']],\n",
    "#                  s=k, xycoords='data')\n",
    "\n",
    "plt.xlabel('Total affected')\n",
    "plt.ylabel('Total damage in USD')\n",
    "plt.title('Storms')\n",
    "plt.xlim(0)\n",
    "plt.ylim(0)\n",
    "plt.legend()"
   ]
  },
  {
   "cell_type": "code",
   "execution_count": null,
   "metadata": {
    "collapsed": true
   },
   "outputs": [],
   "source": []
  }
 ],
 "metadata": {
  "kernelspec": {
   "display_name": "Python 3",
   "language": "python",
   "name": "python3"
  },
  "language_info": {
   "codemirror_mode": {
    "name": "ipython",
    "version": 3
   },
   "file_extension": ".py",
   "mimetype": "text/x-python",
   "name": "python",
   "nbconvert_exporter": "python",
   "pygments_lexer": "ipython3",
   "version": "3.5.1"
  }
 },
 "nbformat": 4,
 "nbformat_minor": 0
}
